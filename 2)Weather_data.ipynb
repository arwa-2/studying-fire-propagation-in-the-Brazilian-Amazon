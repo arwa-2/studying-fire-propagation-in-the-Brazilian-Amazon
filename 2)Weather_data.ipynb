{
  "nbformat": 4,
  "nbformat_minor": 0,
  "metadata": {
    "colab": {
      "provenance": []
    },
    "kernelspec": {
      "name": "python3",
      "display_name": "Python 3"
    },
    "language_info": {
      "name": "python"
    }
  },
  "cells": [
    {
      "cell_type": "markdown",
      "source": [
        "# **Integration of ERA5-Land Daily Weather Features for Fire Alerts (Google Earth Engine API)**\n"
      ],
      "metadata": {
        "id": "GAyoFKQqcC1g"
      }
    },
    {
      "cell_type": "code",
      "execution_count": null,
      "metadata": {
        "id": "njFc6gwuJjer"
      },
      "outputs": [],
      "source": [
        "import ee\n",
        "import geemap\n",
        "import pandas as pd\n",
        "from tqdm import tqdm\n",
        "from google.colab import files\n",
        "from datetime import datetime"
      ]
    },
    {
      "cell_type": "code",
      "source": [
        "# Initialize with your project ID\n",
        "project_id = \"ee-903660\" #actual project ID\n",
        "try:\n",
        "    ee.Initialize(project=project_id)\n",
        "except Exception as e:\n",
        "    ee.Authenticate()\n",
        "    ee.Initialize(project=project_id)"
      ],
      "metadata": {
        "id": "1acgZsWjJnEd",
        "colab": {
          "base_uri": "https://localhost:8080/",
          "height": 17
        },
        "outputId": "45dac256-f4b9-4e8a-e1d9-ed5fc3a521db"
      },
      "execution_count": null,
      "outputs": [
        {
          "output_type": "display_data",
          "data": {
            "text/plain": [
              "<IPython.core.display.HTML object>"
            ],
            "text/html": [
              "\n",
              "            <style>\n",
              "                .geemap-dark {\n",
              "                    --jp-widgets-color: white;\n",
              "                    --jp-widgets-label-color: white;\n",
              "                    --jp-ui-font-color1: white;\n",
              "                    --jp-layout-color2: #454545;\n",
              "                    background-color: #383838;\n",
              "                }\n",
              "\n",
              "                .geemap-dark .jupyter-button {\n",
              "                    --jp-layout-color3: #383838;\n",
              "                }\n",
              "\n",
              "                .geemap-colab {\n",
              "                    background-color: var(--colab-primary-surface-color, white);\n",
              "                }\n",
              "\n",
              "                .geemap-colab .jupyter-button {\n",
              "                    --jp-layout-color3: var(--colab-primary-surface-color, white);\n",
              "                }\n",
              "            </style>\n",
              "            "
            ]
          },
          "metadata": {}
        }
      ]
    },
    {
      "cell_type": "code",
      "source": [
        "# Load your dataset\n",
        "firealerts = pd.read_csv('/content/para_data2022_with_ndvi_evi.csv')"
      ],
      "metadata": {
        "id": "-Gym7Jk5JnG-",
        "colab": {
          "base_uri": "https://localhost:8080/",
          "height": 17
        },
        "outputId": "8ffa9642-7a71-4bdc-d6ba-07c72243abe4"
      },
      "execution_count": null,
      "outputs": [
        {
          "output_type": "display_data",
          "data": {
            "text/plain": [
              "<IPython.core.display.HTML object>"
            ],
            "text/html": [
              "\n",
              "            <style>\n",
              "                .geemap-dark {\n",
              "                    --jp-widgets-color: white;\n",
              "                    --jp-widgets-label-color: white;\n",
              "                    --jp-ui-font-color1: white;\n",
              "                    --jp-layout-color2: #454545;\n",
              "                    background-color: #383838;\n",
              "                }\n",
              "\n",
              "                .geemap-dark .jupyter-button {\n",
              "                    --jp-layout-color3: #383838;\n",
              "                }\n",
              "\n",
              "                .geemap-colab {\n",
              "                    background-color: var(--colab-primary-surface-color, white);\n",
              "                }\n",
              "\n",
              "                .geemap-colab .jupyter-button {\n",
              "                    --jp-layout-color3: var(--colab-primary-surface-color, white);\n",
              "                }\n",
              "            </style>\n",
              "            "
            ]
          },
          "metadata": {}
        }
      ]
    },
    {
      "cell_type": "code",
      "source": [
        "# Function to extract weather data for a single row\n",
        "def extract_weather_features(row):\n",
        "    lat = row['latitude']\n",
        "    lon = row['longitude']\n",
        "    date_str = row['alert__date']\n",
        "    point = ee.Geometry.Point([lon, lat])\n",
        "\n",
        "    # Use the same date (daily values)\n",
        "    date = ee.Date(date_str)\n",
        "\n",
        "    # Load ERA5-Land Daily Aggregates for that day\n",
        "    try:\n",
        "        weather = ee.ImageCollection(\"ECMWF/ERA5_LAND/DAILY_AGGR\") \\\n",
        "            .filterDate(date, date.advance(1, 'day')) \\\n",
        "            .first()\n",
        "\n",
        "        # Extract relevant bands\n",
        "        bands = [\n",
        "            'temperature_2m_max',\n",
        "            'temperature_2m_min',\n",
        "            'total_precipitation_sum',\n",
        "            'u_component_of_wind_10m',\n",
        "            'v_component_of_wind_10m'\n",
        "        ]\n",
        "\n",
        "        values = weather.select(bands).reduceRegion(\n",
        "            reducer=ee.Reducer.first(),\n",
        "            geometry=point,\n",
        "            scale=1000,\n",
        "            maxPixels=1e9\n",
        "        ).getInfo()\n",
        "\n",
        "        return pd.Series([\n",
        "            values.get('temperature_2m_max'),\n",
        "            values.get('temperature_2m_min'),\n",
        "            values.get('total_precipitation_sum'),\n",
        "            values.get('u_component_of_wind_10m'),\n",
        "            values.get('v_component_of_wind_10m')\n",
        "        ])\n",
        "\n",
        "    except Exception as e:\n",
        "        print(f\"Error at ({lat}, {lon}, {date_str}): {e}\")\n",
        "        return pd.Series([None] * 5)\n",
        "\n",
        "# Rename output columns for clarity\n",
        "weather_column_names = [\n",
        "    'temp_max',\n",
        "    'temp_min',\n",
        "    'precipitation',\n",
        "    'wind_u_10m',\n",
        "    'wind_v_10m'\n",
        "]"
      ],
      "metadata": {
        "id": "d9f8VCjDJnLt",
        "colab": {
          "base_uri": "https://localhost:8080/",
          "height": 17
        },
        "outputId": "f4afaec0-d884-453e-9ec5-7a9395f14bd2"
      },
      "execution_count": null,
      "outputs": [
        {
          "output_type": "display_data",
          "data": {
            "text/plain": [
              "<IPython.core.display.HTML object>"
            ],
            "text/html": [
              "\n",
              "            <style>\n",
              "                .geemap-dark {\n",
              "                    --jp-widgets-color: white;\n",
              "                    --jp-widgets-label-color: white;\n",
              "                    --jp-ui-font-color1: white;\n",
              "                    --jp-layout-color2: #454545;\n",
              "                    background-color: #383838;\n",
              "                }\n",
              "\n",
              "                .geemap-dark .jupyter-button {\n",
              "                    --jp-layout-color3: #383838;\n",
              "                }\n",
              "\n",
              "                .geemap-colab {\n",
              "                    background-color: var(--colab-primary-surface-color, white);\n",
              "                }\n",
              "\n",
              "                .geemap-colab .jupyter-button {\n",
              "                    --jp-layout-color3: var(--colab-primary-surface-color, white);\n",
              "                }\n",
              "            </style>\n",
              "            "
            ]
          },
          "metadata": {}
        }
      ]
    },
    {
      "cell_type": "code",
      "source": [
        "batch_size = 1000\n",
        "batches = []\n",
        "import os\n",
        "os.makedirs(\"para_batches\", exist_ok=True)\n",
        "\n",
        "for i, start in enumerate(range(0, len(firealerts), batch_size)):\n",
        "    end = start + batch_size\n",
        "    batch = firealerts.iloc[start:end]\n",
        "\n",
        "    # Apply the function to the batch\n",
        "    weather_features_batch = batch.apply(extract_weather_features, axis=1)\n",
        "    weather_features_batch.columns = weather_column_names\n",
        "\n",
        "    # Merge with the original batch\n",
        "    merged_batch = pd.concat([batch, weather_features_batch], axis=1)\n",
        "    batches.append(merged_batch)\n",
        "\n",
        "    # Save individual batch to CSV\n",
        "    batch_filename = f\"para_batches/para22_batch_{i}.csv\"\n",
        "    merged_batch.to_csv(batch_filename, index=False)\n",
        "    print(f\"Saved {batch_filename}\")\n",
        "\n",
        "# Save full concatenated data\n",
        "firealerts_with_weather = pd.concat(batches, axis=0)\n",
        "firealerts_with_weather.to_csv(\"para_data2022_with_ndvi&weather.csv\", index=False)\n",
        "print(\"All batches processed and final file saved.\")"
      ],
      "metadata": {
        "id": "-bjbf7ebJnN_",
        "colab": {
          "base_uri": "https://localhost:8080/",
          "height": 1000
        },
        "outputId": "c2afc709-be32-4945-f7e6-6879312543f6"
      },
      "execution_count": null,
      "outputs": [
        {
          "output_type": "display_data",
          "data": {
            "text/plain": [
              "<IPython.core.display.HTML object>"
            ],
            "text/html": [
              "\n",
              "            <style>\n",
              "                .geemap-dark {\n",
              "                    --jp-widgets-color: white;\n",
              "                    --jp-widgets-label-color: white;\n",
              "                    --jp-ui-font-color1: white;\n",
              "                    --jp-layout-color2: #454545;\n",
              "                    background-color: #383838;\n",
              "                }\n",
              "\n",
              "                .geemap-dark .jupyter-button {\n",
              "                    --jp-layout-color3: #383838;\n",
              "                }\n",
              "\n",
              "                .geemap-colab {\n",
              "                    background-color: var(--colab-primary-surface-color, white);\n",
              "                }\n",
              "\n",
              "                .geemap-colab .jupyter-button {\n",
              "                    --jp-layout-color3: var(--colab-primary-surface-color, white);\n",
              "                }\n",
              "            </style>\n",
              "            "
            ]
          },
          "metadata": {}
        },
        {
          "output_type": "stream",
          "name": "stdout",
          "text": [
            "Saved para_batches/para22_batch_0.csv\n",
            "Saved para_batches/para22_batch_1.csv\n",
            "Saved para_batches/para22_batch_2.csv\n"
          ]
        },
        {
          "output_type": "stream",
          "name": "stderr",
          "text": [
            "WARNING:googleapiclient.http:Encountered 403 Forbidden with reason \"PERMISSION_DENIED\"\n"
          ]
        },
        {
          "output_type": "stream",
          "name": "stdout",
          "text": [
            "Error at (-8.62599, -54.21996, 2022-07-25): Not signed up for Earth Engine or project is not registered. Visit https://developers.google.com/earth-engine/guides/access\n"
          ]
        },
        {
          "output_type": "stream",
          "name": "stderr",
          "text": [
            "WARNING:googleapiclient.http:Encountered 403 Forbidden with reason \"PERMISSION_DENIED\"\n"
          ]
        },
        {
          "output_type": "stream",
          "name": "stdout",
          "text": [
            "Error at (-7.15272, -55.01887, 2022-07-06): Not signed up for Earth Engine or project is not registered. Visit https://developers.google.com/earth-engine/guides/access\n"
          ]
        },
        {
          "output_type": "stream",
          "name": "stderr",
          "text": [
            "WARNING:googleapiclient.http:Encountered 403 Forbidden with reason \"PERMISSION_DENIED\"\n"
          ]
        },
        {
          "output_type": "stream",
          "name": "stdout",
          "text": [
            "Error at (-6.2626, -52.63503, 2022-07-21): Not signed up for Earth Engine or project is not registered. Visit https://developers.google.com/earth-engine/guides/access\n",
            "Saved para_batches/para22_batch_3.csv\n"
          ]
        },
        {
          "output_type": "stream",
          "name": "stderr",
          "text": [
            "WARNING:googleapiclient.http:Encountered 403 Forbidden with reason \"PERMISSION_DENIED\"\n"
          ]
        },
        {
          "output_type": "stream",
          "name": "stdout",
          "text": [
            "Error at (-5.86335, -52.07313, 2022-07-20): Not signed up for Earth Engine or project is not registered. Visit https://developers.google.com/earth-engine/guides/access\n",
            "Saved para_batches/para22_batch_4.csv\n",
            "Saved para_batches/para22_batch_5.csv\n",
            "Saved para_batches/para22_batch_6.csv\n",
            "Saved para_batches/para22_batch_7.csv\n",
            "Saved para_batches/para22_batch_8.csv\n",
            "Saved para_batches/para22_batch_9.csv\n",
            "Saved para_batches/para22_batch_10.csv\n",
            "Saved para_batches/para22_batch_11.csv\n",
            "Saved para_batches/para22_batch_12.csv\n",
            "Saved para_batches/para22_batch_13.csv\n",
            "Saved para_batches/para22_batch_14.csv\n",
            "Saved para_batches/para22_batch_15.csv\n",
            "Saved para_batches/para22_batch_16.csv\n",
            "Saved para_batches/para22_batch_17.csv\n",
            "Saved para_batches/para22_batch_18.csv\n",
            "Saved para_batches/para22_batch_19.csv\n",
            "Saved para_batches/para22_batch_20.csv\n",
            "Saved para_batches/para22_batch_21.csv\n",
            "Saved para_batches/para22_batch_22.csv\n",
            "Saved para_batches/para22_batch_23.csv\n",
            "Saved para_batches/para22_batch_24.csv\n",
            "Saved para_batches/para22_batch_25.csv\n",
            "Saved para_batches/para22_batch_26.csv\n",
            "Saved para_batches/para22_batch_27.csv\n",
            "Saved para_batches/para22_batch_28.csv\n",
            "Saved para_batches/para22_batch_29.csv\n",
            "Saved para_batches/para22_batch_30.csv\n",
            "Saved para_batches/para22_batch_31.csv\n",
            "Saved para_batches/para22_batch_32.csv\n",
            "Saved para_batches/para22_batch_33.csv\n",
            "Saved para_batches/para22_batch_34.csv\n",
            "Saved para_batches/para22_batch_35.csv\n",
            "Saved para_batches/para22_batch_36.csv\n",
            "Saved para_batches/para22_batch_37.csv\n",
            "Saved para_batches/para22_batch_38.csv\n",
            "Saved para_batches/para22_batch_39.csv\n",
            "Saved para_batches/para22_batch_40.csv\n",
            "Saved para_batches/para22_batch_41.csv\n",
            "Saved para_batches/para22_batch_42.csv\n",
            "Saved para_batches/para22_batch_43.csv\n",
            "Saved para_batches/para22_batch_44.csv\n",
            "Saved para_batches/para22_batch_45.csv\n",
            "Saved para_batches/para22_batch_46.csv\n",
            "Saved para_batches/para22_batch_47.csv\n",
            "Saved para_batches/para22_batch_48.csv\n",
            "Saved para_batches/para22_batch_49.csv\n",
            "Saved para_batches/para22_batch_50.csv\n",
            "Saved para_batches/para22_batch_51.csv\n",
            "Saved para_batches/para22_batch_52.csv\n",
            "Saved para_batches/para22_batch_53.csv\n",
            "Saved para_batches/para22_batch_54.csv\n",
            "Saved para_batches/para22_batch_55.csv\n",
            "Saved para_batches/para22_batch_56.csv\n",
            "Saved para_batches/para22_batch_57.csv\n",
            "Saved para_batches/para22_batch_58.csv\n",
            "Saved para_batches/para22_batch_59.csv\n",
            "Saved para_batches/para22_batch_60.csv\n",
            "Saved para_batches/para22_batch_61.csv\n",
            "Saved para_batches/para22_batch_62.csv\n",
            "Saved para_batches/para22_batch_63.csv\n",
            "Saved para_batches/para22_batch_64.csv\n",
            "Saved para_batches/para22_batch_65.csv\n",
            "Saved para_batches/para22_batch_66.csv\n",
            "Saved para_batches/para22_batch_67.csv\n",
            "Saved para_batches/para22_batch_68.csv\n",
            "Saved para_batches/para22_batch_69.csv\n",
            "Saved para_batches/para22_batch_70.csv\n",
            "Saved para_batches/para22_batch_71.csv\n",
            "Saved para_batches/para22_batch_72.csv\n",
            "Saved para_batches/para22_batch_73.csv\n",
            "Saved para_batches/para22_batch_74.csv\n",
            "Saved para_batches/para22_batch_75.csv\n",
            "Saved para_batches/para22_batch_76.csv\n",
            "Saved para_batches/para22_batch_77.csv\n",
            "Saved para_batches/para22_batch_78.csv\n",
            "Saved para_batches/para22_batch_79.csv\n",
            "Saved para_batches/para22_batch_80.csv\n",
            "Saved para_batches/para22_batch_81.csv\n",
            "Saved para_batches/para22_batch_82.csv\n",
            "Saved para_batches/para22_batch_83.csv\n",
            "Saved para_batches/para22_batch_84.csv\n",
            "Saved para_batches/para22_batch_85.csv\n",
            "Saved para_batches/para22_batch_86.csv\n",
            "Saved para_batches/para22_batch_87.csv\n",
            "Saved para_batches/para22_batch_88.csv\n",
            "Saved para_batches/para22_batch_89.csv\n",
            "Saved para_batches/para22_batch_90.csv\n",
            "Saved para_batches/para22_batch_91.csv\n",
            "Saved para_batches/para22_batch_92.csv\n",
            "All batches processed and final file saved.\n"
          ]
        }
      ]
    }
  ]
}